{
 "metadata": {
  "name": "",
  "signature": "sha256:172887b97e7533f68736085b1e627f09f766f505b99e3e58a48b2162cad90a0d"
 },
 "nbformat": 3,
 "nbformat_minor": 0,
 "worksheets": [
  {
   "cells": [
    {
     "cell_type": "code",
     "collapsed": false,
     "input": [
      "%matplotlib inline\n",
      "import yt\n",
      "from yt.frontends.fits.misc import FITSSlicePlot, FITSProjectionPlot, FITSOffAxisSlicePlot, FITSOffAxisProjectionPlot"
     ],
     "language": "python",
     "metadata": {},
     "outputs": []
    },
    {
     "cell_type": "code",
     "collapsed": false,
     "input": [
      "ds = yt.load(\"ALMA/m33_hi.fits\", mask_nans=True)"
     ],
     "language": "python",
     "metadata": {},
     "outputs": []
    },
    {
     "cell_type": "code",
     "collapsed": false,
     "input": [
      "slc = FITSSlicePlot(ds, \"z\", [\"intensity\"])\n",
      "slc.show()"
     ],
     "language": "python",
     "metadata": {},
     "outputs": []
    },
    {
     "cell_type": "code",
     "collapsed": false,
     "input": [
      "prj = FITSProjectionPlot(ds, \"z\", [\"intensity\"])\n",
      "prj.set_cmap(\"intensity\",\"purple_mm\")\n",
      "prj.show()"
     ],
     "language": "python",
     "metadata": {},
     "outputs": []
    },
    {
     "cell_type": "code",
     "collapsed": false,
     "input": [
      "slc = FITSOffAxisSlicePlot(ds,[1.0,1.0], [\"intensity\"])\n",
      "slc.show()"
     ],
     "language": "python",
     "metadata": {},
     "outputs": []
    },
    {
     "cell_type": "code",
     "collapsed": false,
     "input": [
      "prj = FITSOffAxisProjectionPlot(ds, [1.0,1.0], [\"intensity\"], depth=100.0)"
     ],
     "language": "python",
     "metadata": {},
     "outputs": []
    },
    {
     "cell_type": "code",
     "collapsed": false,
     "input": [
      "prj.set_log(\"intensity\", False)\n",
      "prj.show()"
     ],
     "language": "python",
     "metadata": {},
     "outputs": []
    }
   ],
   "metadata": {}
  }
 ]
}