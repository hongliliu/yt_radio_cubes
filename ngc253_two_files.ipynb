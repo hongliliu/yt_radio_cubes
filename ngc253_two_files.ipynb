{
 "metadata": {
  "name": "",
  "signature": "sha256:af6602ce2a8b15f67eb70fe0ddc37ae2f236e2fef0c04abd26e66be531899465"
 },
 "nbformat": 3,
 "nbformat_minor": 0,
 "worksheets": [
  {
   "cells": [
    {
     "cell_type": "code",
     "collapsed": false,
     "input": [
      "%matplotlib inline\n",
      "import yt\n",
      "from yt.frontends.fits.api import FITSSlicePlot"
     ],
     "language": "python",
     "metadata": {},
     "outputs": []
    },
    {
     "cell_type": "code",
     "collapsed": false,
     "input": [
      "ds = yt.load(\"ALMA/ngc253_hcop_correct.fits\", \n",
      "             slave_files=[\"/Users/jzuhone/yt/test_outputs/ALMA/ngc253_co_correct.fits\"], \n",
      "             mask_nans=True)"
     ],
     "language": "python",
     "metadata": {},
     "outputs": []
    },
    {
     "cell_type": "code",
     "collapsed": false,
     "input": [
      "ds.field_list"
     ],
     "language": "python",
     "metadata": {},
     "outputs": []
    },
    {
     "cell_type": "code",
     "collapsed": false,
     "input": [
      "slc = FITSSlicePlot(ds,\"z\",[\"intensity_89.189GHz\",\"intensity_115.271GHz\"])\n",
      "slc.show()"
     ],
     "language": "python",
     "metadata": {},
     "outputs": []
    },
    {
     "cell_type": "code",
     "collapsed": false,
     "input": [
      "slc.zoom(4)"
     ],
     "language": "python",
     "metadata": {},
     "outputs": []
    }
   ],
   "metadata": {}
  }
 ]
}